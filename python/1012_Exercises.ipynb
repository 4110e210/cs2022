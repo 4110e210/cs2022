{
  "nbformat": 4,
  "nbformat_minor": 0,
  "metadata": {
    "colab": {
      "provenance": []
    },
    "kernelspec": {
      "name": "python3",
      "display_name": "Python 3"
    },
    "language_info": {
      "name": "python"
    }
  },
  "cells": [
    {
      "cell_type": "markdown",
      "source": [
        "1012 Exercises 4110E234\n",
        "Python List remove()\n"
      ],
      "metadata": {
        "id": "lBzgz3aQUJWw"
      }
    },
    {
      "cell_type": "markdown",
      "source": [
        "Exercise 1: Remove element from the list"
      ],
      "metadata": {
        "id": "hZv1Bl9mULPz"
      }
    },
    {
      "cell_type": "code",
      "execution_count": 1,
      "metadata": {
        "colab": {
          "base_uri": "https://localhost:8080/"
        },
        "id": "PZqXRTr-UH-J",
        "outputId": "27d1bb37-5614-48c7-ffa8-8b77747db998"
      },
      "outputs": [
        {
          "output_type": "stream",
          "name": "stdout",
          "text": [
            "Updated snacks list:  ['Turon', 'Banana Cue', 'Taho']\n"
          ]
        }
      ],
      "source": [
        "# snacks list\n",
        "snacks = ['Turon', 'Banana Cue', 'Puto', 'Taho']\n",
        "\n",
        "# 'Puto' is removed\n",
        "snacks.remove('Puto')\n",
        "\n",
        "\n",
        "# Updated snacks List\n",
        "print('Updated snacks list: ', snacks)\n"
      ]
    },
    {
      "cell_type": "markdown",
      "source": [
        "Exercise 2: remove() method on a list having duplicate elements"
      ],
      "metadata": {
        "id": "L6xbWuVzUYet"
      }
    },
    {
      "cell_type": "code",
      "source": [
        "# snacks list\n",
        "snacks = ['Turon', 'Banana Cue', 'Banana Cue', 'Puto', 'Banana Cue']\n",
        "\n",
        "# 'Banana Cue' is removed\n",
        "snacks.remove('Banana Cue')\n",
        "\n",
        "\n",
        "# Updated snacks list\n",
        "print('Updated snacks list: ', snacks)"
      ],
      "metadata": {
        "colab": {
          "base_uri": "https://localhost:8080/"
        },
        "id": "ib5HOZiJUaiV",
        "outputId": "da96c702-a972-4b9b-b4a0-6d6d303b3f1e"
      },
      "execution_count": 2,
      "outputs": [
        {
          "output_type": "stream",
          "name": "stdout",
          "text": [
            "Updated snacks list:  ['Turon', 'Banana Cue', 'Puto', 'Banana Cue']\n"
          ]
        }
      ]
    },
    {
      "cell_type": "markdown",
      "source": [
        "Exercise 3: Deleting element that doesn't exist"
      ],
      "metadata": {
        "id": "asRbRf_EUe2g"
      }
    },
    {
      "cell_type": "code",
      "source": [
        "# snacks list\n",
        "snacks =['Turon', 'Banana Cue', 'Puto', 'Taho']\n",
        "\n",
        "# Deleting 'Suman' element\n",
        "snacks.remove('Suman')\n",
        "\n",
        "# Updated snacks list\n",
        "print('Updated snacks list: ', snacks)"
      ],
      "metadata": {
        "colab": {
          "base_uri": "https://localhost:8080/",
          "height": 235
        },
        "id": "xeAWQbTDUhtA",
        "outputId": "5d741e7a-6bf4-4e7f-aea0-193f8ed0f868"
      },
      "execution_count": 3,
      "outputs": [
        {
          "output_type": "error",
          "ename": "ValueError",
          "evalue": "ignored",
          "traceback": [
            "\u001b[0;31m---------------------------------------------------------------------------\u001b[0m",
            "\u001b[0;31mValueError\u001b[0m                                Traceback (most recent call last)",
            "\u001b[0;32m<ipython-input-3-1ad45b06553a>\u001b[0m in \u001b[0;36m<module>\u001b[0;34m\u001b[0m\n\u001b[1;32m      3\u001b[0m \u001b[0;34m\u001b[0m\u001b[0m\n\u001b[1;32m      4\u001b[0m \u001b[0;31m# Deleting 'Suman' element\u001b[0m\u001b[0;34m\u001b[0m\u001b[0;34m\u001b[0m\u001b[0;34m\u001b[0m\u001b[0m\n\u001b[0;32m----> 5\u001b[0;31m \u001b[0msnacks\u001b[0m\u001b[0;34m.\u001b[0m\u001b[0mremove\u001b[0m\u001b[0;34m(\u001b[0m\u001b[0;34m'Suman'\u001b[0m\u001b[0;34m)\u001b[0m\u001b[0;34m\u001b[0m\u001b[0;34m\u001b[0m\u001b[0m\n\u001b[0m\u001b[1;32m      6\u001b[0m \u001b[0;34m\u001b[0m\u001b[0m\n\u001b[1;32m      7\u001b[0m \u001b[0;31m# Updated snacks list\u001b[0m\u001b[0;34m\u001b[0m\u001b[0;34m\u001b[0m\u001b[0;34m\u001b[0m\u001b[0m\n",
            "\u001b[0;31mValueError\u001b[0m: list.remove(x): x not in list"
          ]
        }
      ]
    }
  ]
}