{
  "nbformat": 4,
  "nbformat_minor": 0,
  "metadata": {
    "colab": {
      "provenance": []
    },
    "kernelspec": {
      "name": "python3",
      "display_name": "Python 3"
    },
    "language_info": {
      "name": "python"
    }
  },
  "cells": [
    {
      "cell_type": "markdown",
      "source": [
        "**TEST 1**\n",
        "\n",
        "**RECURSIVE FUNCTION**\n",
        "\n",
        "\n",
        "f(n)"
      ],
      "metadata": {
        "id": "Z_dtNKVteJE7"
      }
    },
    {
      "cell_type": "code",
      "execution_count": 1,
      "metadata": {
        "colab": {
          "base_uri": "https://localhost:8080/"
        },
        "id": "jc_mCYzVdy0a",
        "outputId": "7dd214bd-0356-434a-9250-1f60549374d4"
      },
      "outputs": [
        {
          "output_type": "stream",
          "name": "stdout",
          "text": [
            "The recursion of 11 is 108505111\n"
          ]
        }
      ],
      "source": [
        "def recursion(n):\n",
        "\n",
        "    if n == 1:\n",
        "        return 1\n",
        "\n",
        "    else:\n",
        "        return n * recursion(n-1) + n\n",
        "\n",
        "\n",
        "num = 11\n",
        "\n",
        "print(\"The recursion of\", num, \"is\", recursion(num))"
      ]
    },
    {
      "cell_type": "markdown",
      "source": [
        "\n",
        "2\n",
        "\n",
        "**ITERATIVE FUNCTION**"
      ],
      "metadata": {
        "id": "wuudL17nfkEo"
      }
    },
    {
      "cell_type": "code",
      "source": [
        "drinks = [\"water\", \"juice\", \"coffee\"]\n",
        "i = 0\n",
        "while (i < len(drinks)):\n",
        "    print(drinks[i])\n",
        "    i += 1"
      ],
      "metadata": {
        "colab": {
          "base_uri": "https://localhost:8080/"
        },
        "id": "iUBu1YjzfoaQ",
        "outputId": "a259b90c-10fc-4649-bda0-5f288cbea7d5"
      },
      "execution_count": 2,
      "outputs": [
        {
          "output_type": "stream",
          "name": "stdout",
          "text": [
            "water\n",
            "juice\n",
            "coffee\n"
          ]
        }
      ]
    },
    {
      "cell_type": "markdown",
      "source": [
        "**TEST 2**\n",
        "\n",
        "**RECURSIVE FUNCTION**\n",
        "\n",
        "f(n)"
      ],
      "metadata": {
        "id": "t3AWDR27f8yP"
      }
    },
    {
      "cell_type": "code",
      "source": [
        "def f(n):\n",
        "    if n == 1: \n",
        "        return 1\n",
        "\n",
        "    else:\n",
        "        return(n * f(n-1))\n",
        "\n",
        "print(f(11))"
      ],
      "metadata": {
        "colab": {
          "base_uri": "https://localhost:8080/"
        },
        "id": "44aNj2bagDmd",
        "outputId": "dea8c0da-6de1-4d19-fe7d-3e10429b43ee"
      },
      "execution_count": 3,
      "outputs": [
        {
          "output_type": "stream",
          "name": "stdout",
          "text": [
            "39916800\n"
          ]
        }
      ]
    },
    {
      "cell_type": "markdown",
      "source": [
        "**ITERATIVE FUNCTION**\n"
      ],
      "metadata": {
        "id": "9iANt_j4gw0l"
      }
    },
    {
      "cell_type": "code",
      "source": [
        "n = 8\n",
        "for i in range(n):\n",
        "   print(40**(3*i))\n",
        "   for i in range(n, -1, -1):\n",
        "     print(40**(3*i))"
      ],
      "metadata": {
        "colab": {
          "base_uri": "https://localhost:8080/"
        },
        "id": "EK-M4D7Bg1fR",
        "outputId": "a9d1cb7d-d631-4a1c-86c5-c9b6185dc6b6"
      },
      "execution_count": 6,
      "outputs": [
        {
          "output_type": "stream",
          "name": "stdout",
          "text": [
            "1\n",
            "281474976710656000000000000000000000000\n",
            "4398046511104000000000000000000000\n",
            "68719476736000000000000000000\n",
            "1073741824000000000000000\n",
            "16777216000000000000\n",
            "262144000000000\n",
            "4096000000\n",
            "64000\n",
            "1\n",
            "64000\n",
            "281474976710656000000000000000000000000\n",
            "4398046511104000000000000000000000\n",
            "68719476736000000000000000000\n",
            "1073741824000000000000000\n",
            "16777216000000000000\n",
            "262144000000000\n",
            "4096000000\n",
            "64000\n",
            "1\n",
            "4096000000\n",
            "281474976710656000000000000000000000000\n",
            "4398046511104000000000000000000000\n",
            "68719476736000000000000000000\n",
            "1073741824000000000000000\n",
            "16777216000000000000\n",
            "262144000000000\n",
            "4096000000\n",
            "64000\n",
            "1\n",
            "262144000000000\n",
            "281474976710656000000000000000000000000\n",
            "4398046511104000000000000000000000\n",
            "68719476736000000000000000000\n",
            "1073741824000000000000000\n",
            "16777216000000000000\n",
            "262144000000000\n",
            "4096000000\n",
            "64000\n",
            "1\n",
            "16777216000000000000\n",
            "281474976710656000000000000000000000000\n",
            "4398046511104000000000000000000000\n",
            "68719476736000000000000000000\n",
            "1073741824000000000000000\n",
            "16777216000000000000\n",
            "262144000000000\n",
            "4096000000\n",
            "64000\n",
            "1\n",
            "1073741824000000000000000\n",
            "281474976710656000000000000000000000000\n",
            "4398046511104000000000000000000000\n",
            "68719476736000000000000000000\n",
            "1073741824000000000000000\n",
            "16777216000000000000\n",
            "262144000000000\n",
            "4096000000\n",
            "64000\n",
            "1\n",
            "68719476736000000000000000000\n",
            "281474976710656000000000000000000000000\n",
            "4398046511104000000000000000000000\n",
            "68719476736000000000000000000\n",
            "1073741824000000000000000\n",
            "16777216000000000000\n",
            "262144000000000\n",
            "4096000000\n",
            "64000\n",
            "1\n",
            "4398046511104000000000000000000000\n",
            "281474976710656000000000000000000000000\n",
            "4398046511104000000000000000000000\n",
            "68719476736000000000000000000\n",
            "1073741824000000000000000\n",
            "16777216000000000000\n",
            "262144000000000\n",
            "4096000000\n",
            "64000\n",
            "1\n"
          ]
        }
      ]
    },
    {
      "cell_type": "markdown",
      "source": [
        "**TEST 3**\n",
        "\n",
        "GCD\n",
        "\n",
        "**RECURSIVE FUNCTION**"
      ],
      "metadata": {
        "id": "J4pkMsWLhQQ1"
      }
    },
    {
      "cell_type": "code",
      "source": [
        "def f(a, b):\n",
        "    if(b == 0):\n",
        "        return abs(a)\n",
        "    else:\n",
        "        return f(b, a % b)\n",
        " \n",
        "a = 70\n",
        "b = 21\n",
        "print(\"The gcd of 70 and 21 is : \", end=\"\")\n",
        "print(f(70, 21))"
      ],
      "metadata": {
        "colab": {
          "base_uri": "https://localhost:8080/"
        },
        "id": "01gAg929hg7r",
        "outputId": "832ffa16-052d-4377-eb9d-47d7428f3799"
      },
      "execution_count": 7,
      "outputs": [
        {
          "output_type": "stream",
          "name": "stdout",
          "text": [
            "The gcd of 70 and 21 is : 7\n"
          ]
        }
      ]
    },
    {
      "cell_type": "markdown",
      "source": [
        "**ITERATIVE FUNCTION**\n"
      ],
      "metadata": {
        "id": "nN1sGrWVhzQb"
      }
    },
    {
      "cell_type": "code",
      "source": [
        "import math\n",
        "\n",
        "print (math.gcd(7, 20))\n",
        "print (math.gcd(22, 44))\n",
        "print (math.gcd(11, 37))\n",
        "print (math.gcd(8, 32))\n",
        "print (math.gcd(9, 27))\n",
        "print (math.gcd(10, 0))\n",
        "print (math.gcd(0, 34))\n",
        "print (math.gcd(3, 9))"
      ],
      "metadata": {
        "colab": {
          "base_uri": "https://localhost:8080/"
        },
        "id": "dp3kW77nh7MY",
        "outputId": "e90f217c-31fd-4eab-c04d-f6cde8249874"
      },
      "execution_count": 8,
      "outputs": [
        {
          "output_type": "stream",
          "name": "stdout",
          "text": [
            "1\n",
            "22\n",
            "1\n",
            "8\n",
            "9\n",
            "10\n",
            "34\n",
            "3\n"
          ]
        }
      ]
    }
  ]
}