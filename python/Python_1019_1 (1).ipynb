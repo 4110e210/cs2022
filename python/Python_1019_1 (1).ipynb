{
  "nbformat": 4,
  "nbformat_minor": 0,
  "metadata": {
    "colab": {
      "provenance": [],
      "collapsed_sections": []
    },
    "kernelspec": {
      "name": "python3",
      "display_name": "Python 3"
    },
    "language_info": {
      "name": "python"
    }
  },
  "cells": [
    {
      "cell_type": "markdown",
      "source": [
        "1019 4110E210\n",
        "Python Conditions and If Statements\n",
        "\n"
      ],
      "metadata": {
        "id": "hkBKmpnfwss4"
      }
    },
    {
      "cell_type": "markdown",
      "source": [
        "\n",
        "Exercise 1: Print \"Never Giveup\" if a is greater than b.\n"
      ],
      "metadata": {
        "id": "mHN-q2AYxImy"
      }
    },
    {
      "cell_type": "code",
      "execution_count": 1,
      "metadata": {
        "colab": {
          "base_uri": "https://localhost:8080/"
        },
        "id": "5VGn6f8EwlJj",
        "outputId": "ab22d790-0a00-4017-bf1a-c0f2c30bd50d"
      },
      "outputs": [
        {
          "output_type": "stream",
          "name": "stdout",
          "text": [
            "Never Giveup\n"
          ]
        }
      ],
      "source": [
        "a = 19\n",
        "b = 7\n",
        "\n",
        "if a > b:\n",
        "   print(\"Never Giveup\")"
      ]
    }
  ]
}