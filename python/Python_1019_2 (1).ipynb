{
  "nbformat": 4,
  "nbformat_minor": 0,
  "metadata": {
    "colab": {
      "provenance": []
    },
    "kernelspec": {
      "name": "python3",
      "display_name": "Python 3"
    },
    "language_info": {
      "name": "python"
    }
  },
  "cells": [
    {
      "cell_type": "markdown",
      "source": [
        "1019 4110E210"
      ],
      "metadata": {
        "id": "3JjyahTlNmok"
      }
    },
    {
      "cell_type": "markdown",
      "source": [
        "Python For Loops\n",
        "\n",
        "Exercise 1 : Loop through the items in the fruits list."
      ],
      "metadata": {
        "id": "xDrt-ieENlzG"
      }
    },
    {
      "cell_type": "code",
      "source": [
        "classmates = [\"Chandro\", \"Joana\", \"Angela\"]\n",
        "for x in classmates:\n",
        "  print(x)"
      ],
      "metadata": {
        "colab": {
          "base_uri": "https://localhost:8080/"
        },
        "id": "ZswEI-doOuJb",
        "outputId": "730efae9-6ba8-4b55-bd38-184cae789d2a"
      },
      "execution_count": 11,
      "outputs": [
        {
          "output_type": "stream",
          "name": "stdout",
          "text": [
            "Chandro\n",
            "Joana\n",
            "Angela\n"
          ]
        }
      ]
    },
    {
      "cell_type": "markdown",
      "source": [
        "Exercise 2 : In the loop, when the item value is \"Joana\", jump directly to the next item."
      ],
      "metadata": {
        "id": "ecbEwWwrPPXc"
      }
    },
    {
      "cell_type": "code",
      "source": [
        "classmates = [\"Chandro\", \"Joana\", \"Angela\"]\n",
        "for x in classmates:\n",
        "  if x == \"Joana\":\n",
        "    continue\n",
        "  print(x)\n",
        "        "
      ],
      "metadata": {
        "colab": {
          "base_uri": "https://localhost:8080/"
        },
        "id": "ZfSEstf3POFJ",
        "outputId": "e164e23e-555d-499f-92b1-78b26380998c"
      },
      "execution_count": 8,
      "outputs": [
        {
          "output_type": "stream",
          "name": "stdout",
          "text": [
            "Chandro\n",
            "Angela\n"
          ]
        }
      ]
    },
    {
      "cell_type": "markdown",
      "source": [
        "Exercise 3 : Use the range function to loop through a code set 9 times."
      ],
      "metadata": {
        "id": "odsi0lwlRYEU"
      }
    },
    {
      "cell_type": "code",
      "source": [
        "for x in range(9):\n",
        "  print(x)"
      ],
      "metadata": {
        "colab": {
          "base_uri": "https://localhost:8080/"
        },
        "id": "dDpKZTmXRWsc",
        "outputId": "2997e4f2-a207-429e-880f-471f4391aecb"
      },
      "execution_count": 9,
      "outputs": [
        {
          "output_type": "stream",
          "name": "stdout",
          "text": [
            "0\n",
            "1\n",
            "2\n",
            "3\n",
            "4\n",
            "5\n",
            "6\n",
            "7\n",
            "8\n"
          ]
        }
      ]
    },
    {
      "cell_type": "markdown",
      "source": [
        "Exercise 4 : Exit the loop when x is \"joana\".\n"
      ],
      "metadata": {
        "id": "gqweebr1RqyZ"
      }
    },
    {
      "cell_type": "code",
      "source": [
        "classmates = [\"Chandro\", \"Joana\", \"Angela\"]\n",
        "for x in classmates:\n",
        "  print(x) \n",
        "  if x == \"Joana\":\n",
        "    break\n",
        "    print(X)"
      ],
      "metadata": {
        "colab": {
          "base_uri": "https://localhost:8080/"
        },
        "id": "WTdgwsmmRl06",
        "outputId": "da1733aa-98e9-4f98-eb0f-113174288ea2"
      },
      "execution_count": 10,
      "outputs": [
        {
          "output_type": "stream",
          "name": "stdout",
          "text": [
            "Chandro\n",
            "Joana\n"
          ]
        }
      ]
    }
  ]
}