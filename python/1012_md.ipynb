{
  "nbformat": 4,
  "nbformat_minor": 0,
  "metadata": {
    "colab": {
      "provenance": []
    },
    "kernelspec": {
      "name": "python3",
      "display_name": "Python 3"
    },
    "language_info": {
      "name": "python"
    }
  },
  "cells": [
    {
      "cell_type": "markdown",
      "source": [
        "[1012 Learning Python](https://)\n",
        "\n",
        "```\n",
        "# This is formatted as code\n",
        "```\n",
        "\n"
      ],
      "metadata": {
        "id": "xdwobsfvVMkJ"
      }
    },
    {
      "cell_type": "markdown",
      "source": [
        "\n",
        "\n",
        "*   Python Tutorial - [link text](https://www.w3schools.com/python/python_for_loops.asp)\n",
        "\n",
        "\n",
        "\n",
        "*  Python Tutorial - Tutorialspoint[link text](https://www.w3schools.com/python/default.asp)\n",
        "*   HappyPythonDay\n",
        "\n"
      ],
      "metadata": {
        "id": "hcJWIBPwVSbM"
      }
    },
    {
      "cell_type": "markdown",
      "source": [
        "1012:Python Data Type:[link text](https://www.w3schools.com/python/python_datatypes.asp)"
      ],
      "metadata": {
        "id": "GsAzKoPIVVpb"
      }
    },
    {
      "cell_type": "markdown",
      "source": [
        "\n",
        "\n",
        "*   Basic List Operations\n",
        "\n"
      ],
      "metadata": {
        "id": "hjwCfXTRVWoM"
      }
    },
    {
      "cell_type": "markdown",
      "source": [
        "Python - Access List Items[link text](https://www.w3schools.com/python/python_lists_access.asp)"
      ],
      "metadata": {
        "id": "B7drN4pAlKUJ"
      }
    },
    {
      "cell_type": "markdown",
      "source": [
        "\n",
        "*   Python Lists\n",
        "\n",
        "\n"
      ],
      "metadata": {
        "id": "mgDDajqwVZIq"
      }
    },
    {
      "cell_type": "markdown",
      "source": [
        "\n",
        "\n",
        "*   Acess List Items\n",
        "\n"
      ],
      "metadata": {
        "id": "s7RIC4A2Vgnx"
      }
    },
    {
      "cell_type": "markdown",
      "source": [
        "List items are indexed and you can access them by referring to the index number:"
      ],
      "metadata": {
        "id": "yxwDr629V0kc"
      }
    },
    {
      "cell_type": "markdown",
      "source": [
        "Note: The first item has index 0."
      ],
      "metadata": {
        "id": "4JR9lYtcV1o8"
      }
    },
    {
      "cell_type": "code",
      "source": [
        "* Print the second item of the list:\n",
        "\n",
        "thislist = [\"square\", \"circle\", \"triangle\"]\n",
        "print(thislist[1])"
      ],
      "metadata": {
        "id": "9aaU22uRd-zx"
      },
      "execution_count": null,
      "outputs": []
    },
    {
      "cell_type": "markdown",
      "source": [
        "Negative Indexing"
      ],
      "metadata": {
        "id": "AGLR3GDyWRHC"
      }
    },
    {
      "cell_type": "markdown",
      "source": [
        "Negative indexing means start from the end"
      ],
      "metadata": {
        "id": "InQi_cUkWTRr"
      }
    },
    {
      "cell_type": "markdown",
      "source": [
        "-1 refers to the last item, -2 refers to the second last item etc."
      ],
      "metadata": {
        "id": "FxgZLBHLWWuA"
      }
    },
    {
      "cell_type": "code",
      "source": [
        "* Print the last item of the list:\n",
        "thislist = [\"square\", \"circle\", \"triangle\"]\n",
        "print(thislist[-1])"
      ],
      "metadata": {
        "id": "D7NMvQMqeItV"
      },
      "execution_count": null,
      "outputs": []
    },
    {
      "cell_type": "markdown",
      "source": [
        "\n",
        "\n",
        "*   Range of Indexes\n"
      ],
      "metadata": {
        "id": "l3cwpaQiWllq"
      }
    },
    {
      "cell_type": "markdown",
      "source": [
        "-You can specify a range of indexes by specifying where to start and where to end the range.\n",
        "\n",
        "-When specifying a range, the return value will be a new list with the specified items.\n",
        "\n",
        "-Note: The search will start at index 2 (included) and end at index 5 (not included).\n",
        "\n",
        "-Remember that the first item has index 0."
      ],
      "metadata": {
        "id": "3YsG5JGQWpBt"
      }
    },
    {
      "cell_type": "code",
      "source": [
        "* Return the third, fourth, and fifth item:\n",
        "\n",
        "thislist = [\"square\", \"circle\", \"triangle\", \"star\", \"diamond\", \"rectangle\", \"octogaon\"]\n",
        "print(thislist[2:5])"
      ],
      "metadata": {
        "id": "RDzISZ-5eYDN"
      },
      "execution_count": null,
      "outputs": []
    },
    {
      "cell_type": "markdown",
      "source": [
        "By leaving out the start value, the range will start at the first item:"
      ],
      "metadata": {
        "id": "GhAUY23MW_3v"
      }
    },
    {
      "cell_type": "code",
      "source": [
        " This example returns the items from the beginning to, but NOT including, \"diamond\n",
        "\n",
        "\n",
        "thislist = [\"square\", \"circle\", \"triangle\", \"star\", \"diamond\", \"rectangle\", \"octogaon\"]\n",
        "print(thislist[:4])"
      ],
      "metadata": {
        "id": "_1ri0BnIeg8N"
      },
      "execution_count": null,
      "outputs": []
    },
    {
      "cell_type": "markdown",
      "source": [
        "By leaving out the end value, the range will go on to the end of the list:"
      ],
      "metadata": {
        "id": "OUAghtbdXae3"
      }
    },
    {
      "cell_type": "code",
      "source": [
        "* This example returns the items from \"triangle\" to the end:\n",
        "\n",
        "thislist = [\"square\", \"circle\", \"triangle\", \"star\", \"diamond\", \"rectangle\", \"octogaon\"]\n",
        "print(thislist[2:])"
      ],
      "metadata": {
        "id": "vyRbe9pHe2bR"
      },
      "execution_count": null,
      "outputs": []
    },
    {
      "cell_type": "markdown",
      "source": [
        "\n",
        "*   Range of Negative Indexes\n",
        "*   Specify negative indexes if you want to start the search from the end of the list:\n"
      ],
      "metadata": {
        "id": "LNr2aaRfXqev"
      }
    },
    {
      "cell_type": "code",
      "source": [
        "* This example returns the items from \"orange\" (-4) to, but NOT including \"violet\" (-1)\n",
        "\n",
        "\n",
        "thislist = [\"square\", \"circle\", \"triangle\", \"star\", \"diamond\", \"rectangle\", \"octogaon\"]\n",
        "print(thislist[-4:-1])"
      ],
      "metadata": {
        "id": "JvkTDGYNfEY7"
      },
      "execution_count": null,
      "outputs": []
    },
    {
      "cell_type": "markdown",
      "source": [
        "\n",
        "\n",
        "*   Check if Item Exists\n",
        "*   To determine if a specified item is present in a list use the in keyword:\n",
        "\n"
      ],
      "metadata": {
        "id": "QuEww_lyX8EC"
      }
    },
    {
      "cell_type": "code",
      "source": [
        "* Check if \"**square**\" is present in the list:\n",
        "\n",
        "thislist = [\"square\", \"circle\", \"triangle\"]\n",
        "if \"square\" in thislist:\n",
        "  print(\"Yes, 'square' is in the fruits list\")"
      ],
      "metadata": {
        "id": "NggJDSCyfM2r"
      },
      "execution_count": null,
      "outputs": []
    },
    {
      "cell_type": "markdown",
      "source": [
        "Python-Change List items[link text](https://www.w3schools.com/python/python_lists_change.asp)"
      ],
      "metadata": {
        "id": "WHEPZr5WYada"
      }
    },
    {
      "cell_type": "markdown",
      "source": [
        "\n",
        "\n",
        "*   Change Item Value\n",
        "*   To change the value of a specific item, refer to the index number:\n",
        "\n"
      ],
      "metadata": {
        "id": "QYKPT4_NYeU-"
      }
    },
    {
      "cell_type": "code",
      "source": [
        "* Change the second item:\n",
        "\n",
        "thislist = [\"square\", \"circle\", \"triangle\"]\n",
        "thislist[1] = \"rectangle\"\n",
        "\n",
        "print(thislist)"
      ],
      "metadata": {
        "id": "RR1376L2fUmR"
      },
      "execution_count": null,
      "outputs": []
    },
    {
      "cell_type": "markdown",
      "source": [
        "\n",
        "\n",
        "*   Change a Range of Item Values\n",
        "\n",
        "*   To change the value of items within a specific range, define a list with the new values, and refer to the range of index numbers where you want to insert the new values:\n"
      ],
      "metadata": {
        "id": "lrKQVhIGYwnc"
      }
    },
    {
      "cell_type": "code",
      "source": [
        "* Change the values \"orange\" and \"yellow\" with the values \"indigo\" and \"violet\":\n",
        "\n",
        "thislist = [\"square\", \"circle\", \"triangle\", \"star\", \"diamond\", \"rectangle\", \"octogaon\"]\n",
        "\n",
        "thislist[1:3] = [\"rectable\", \"octagon\"]\n",
        "\n",
        "print(thislist)"
      ],
      "metadata": {
        "id": "GcFdxIBZfY88"
      },
      "execution_count": null,
      "outputs": []
    },
    {
      "cell_type": "markdown",
      "source": [
        "\n",
        "\n",
        "*   -If you insert more items than you replace, the new items will be inserted where you specified, and the remaining items will move accordingly:\n",
        "\n"
      ],
      "metadata": {
        "id": "CrR7d6dTZDki"
      }
    },
    {
      "cell_type": "code",
      "source": [
        "thislist = [\"square\", \"circle\", \"triangle\"]\n",
        "\n",
        "thislist[1:2] = [\"rectable\", \"octagon\"]\n",
        "\n",
        "print(thislist)"
      ],
      "metadata": {
        "id": "0D0U0Jd0fjbw"
      },
      "execution_count": null,
      "outputs": []
    },
    {
      "cell_type": "markdown",
      "source": [
        "\n",
        "*   Note: The length of the list will change when the number of items inserted does not match the number of items replaced.\n",
        "*   -if you insert less items than you replace, the new items will be inserted where you specified, and the remaining items will move accordingly:\n",
        "\n",
        "\n"
      ],
      "metadata": {
        "id": "pATQk0iKZN22"
      }
    },
    {
      "cell_type": "code",
      "source": [
        "* Change the second and third value by replacing it with one value:\n",
        "\n",
        "\n",
        "thislist = [\"square\", \"circle\", \"triangle\"]\n",
        "thislist[1:3] = [\"octagon\"]\n",
        "\n",
        "print(thislist)"
      ],
      "metadata": {
        "id": "i_tUDoR2f2FL"
      },
      "execution_count": null,
      "outputs": []
    },
    {
      "cell_type": "markdown",
      "source": [
        "\n",
        "\n",
        "*   Insert Items\n",
        "*   To insert a new list item, without replacing any of the existing values, we can use the insert() method. -\n",
        "\n",
        "The insert() method inserts an item at the specified index:\n"
      ],
      "metadata": {
        "id": "N_bQQCPwnroE"
      }
    },
    {
      "cell_type": "markdown",
      "source": [
        "\n",
        "* Insert \"watermelon\" as the third item:\n",
        "thislist = [\"square\", \"circle\", \"triangle\"]\n",
        "\n",
        "thislist.insert(2, \"rectangle\")\n",
        "\n",
        "print(thislist) "
      ],
      "metadata": {
        "id": "n_LEHKQPgBtu"
      }
    },
    {
      "cell_type": "markdown",
      "source": [
        "\n",
        "\n",
        "*   Note: As a result of the example above, the list will now contain 4 items.\n"
      ],
      "metadata": {
        "id": "L-OdxOC-Z-kC"
      }
    },
    {
      "cell_type": "markdown",
      "source": [
        "Python - Add List Items[link text](https://www.w3schools.com/python/python_lists_add.asp)"
      ],
      "metadata": {
        "id": "Y8a5K9XEaBQb"
      }
    },
    {
      "cell_type": "markdown",
      "source": [
        "\n",
        "\n",
        "*   Append Items\n",
        "*   To add an item to the end of the list, use the append() method:\n"
      ],
      "metadata": {
        "id": "XBvxEKKLad-i"
      }
    },
    {
      "cell_type": "markdown",
      "source": [
        "* Using the append() method to append an item:"
      ],
      "metadata": {
        "id": "w0_hD8RNamMv"
      }
    },
    {
      "cell_type": "code",
      "source": [
        "thislist = [\"square\", \"circle\", \"triangle\"\"]\n",
        "\n",
        "thislist.append(\"star\")\n",
        "\n",
        "print(thislist)"
      ],
      "metadata": {
        "id": "6JGPZsmYaxam"
      },
      "execution_count": null,
      "outputs": []
    },
    {
      "cell_type": "markdown",
      "source": [
        "\n",
        "\n",
        "\n",
        "\n",
        "*   Insert Items\n",
        "*   -To insert a list item at a specified index, use the insert() method.\n",
        "\n",
        "-The insert() method inserts an item at the specified index:\n",
        "-Note: As a result of the examples above, the lists will now contain 4 items.\n",
        "\n",
        "\n",
        "\n"
      ],
      "metadata": {
        "id": "g0fWZJnlazXc"
      }
    },
    {
      "cell_type": "markdown",
      "source": [
        "* Insert an item as the second position:"
      ],
      "metadata": {
        "id": "BI-Eg1zna96L"
      }
    },
    {
      "cell_type": "code",
      "source": [
        "thislist = [\"square\", \"circle\", \"triangle\"]\n",
        "thislist.insert(1, \"star\")\n",
        "print(thislist)"
      ],
      "metadata": {
        "colab": {
          "base_uri": "https://localhost:8080/"
        },
        "id": "5sNngZePa_9F",
        "outputId": "c32a2161-dee6-45bb-de25-a28441590e67"
      },
      "execution_count": 17,
      "outputs": [
        {
          "output_type": "stream",
          "name": "stdout",
          "text": [
            "['square', 'star', 'circle', 'triangle']\n"
          ]
        }
      ]
    },
    {
      "cell_type": "markdown",
      "source": [
        "\n",
        "\n",
        "*   Extend List\n",
        "*   To append elements from another list to the current list, use the extend() method."
      ],
      "metadata": {
        "id": "cmA4SNUKbEpW"
      }
    },
    {
      "cell_type": "markdown",
      "source": [
        "* Add the elements of colors to thislist:"
      ],
      "metadata": {
        "id": "-3h1F1inbOrT"
      }
    },
    {
      "cell_type": "code",
      "source": [
        "thislist = [\"square\", \"circle\", \"triangle\"\"]\n",
        "colors = [\"star\", \"diamond\", \"rectangle\"]\n",
        "thislist.extend(shapes)"
      ],
      "metadata": {
        "id": "3VYp80eGbiEU"
      },
      "execution_count": null,
      "outputs": []
    },
    {
      "cell_type": "markdown",
      "source": [
        "\n",
        "(The elements will be added to the end of the list)"
      ],
      "metadata": {
        "id": "ggwD1lXkbj4j"
      }
    },
    {
      "cell_type": "markdown",
      "source": [
        "-Add Any Iterable\n",
        "\n",
        "\n",
        "-The extend() method does not have to append lists, you can add any iterable object (tuples, sets, dictionaries etc.)."
      ],
      "metadata": {
        "id": "rVyWQURWbmw6"
      }
    },
    {
      "cell_type": "code",
      "source": [
        "* Add elements of a color to a list:\n",
        "thislist = [\"square\", \"circle\", \"triangle\"]\n",
        "thistuple = (\"redctangle,octagon\"]\n",
        "thislist.extend(thistuple)\n",
        "print(thislist)"
      ],
      "metadata": {
        "id": "0m6UWmrfbwaV"
      },
      "execution_count": null,
      "outputs": []
    },
    {
      "cell_type": "markdown",
      "source": [
        "Python - Remove List Items[link text](https://www.w3schools.com/python/python_lists_remove.asp)"
      ],
      "metadata": {
        "id": "2XBRVxTzcBLP"
      }
    },
    {
      "cell_type": "markdown",
      "source": [
        "\n",
        "\n",
        "*   Remove Specified Item\n"
      ],
      "metadata": {
        "id": "eeGxrtDpcI-d"
      }
    },
    {
      "cell_type": "code",
      "source": [
        "* Remove \"circle\":\n",
        "thislist = [\"square\", \"circle\", \"triangle\"]\n",
        "thislist.remove(\"circle\")\n",
        "print(thislist)"
      ],
      "metadata": {
        "id": "Exc47AyDcG4V"
      },
      "execution_count": null,
      "outputs": []
    },
    {
      "cell_type": "markdown",
      "source": [
        "-Remove Specified Index\n",
        "\n",
        "-The pop() method removes the specified index."
      ],
      "metadata": {
        "id": "hXzLBaLNcQ5G"
      }
    },
    {
      "cell_type": "code",
      "source": [
        "thislist = [\"square\", \"circle\", \"triangle\"]\n",
        "thislist.pop(1)\n",
        "print(thislist)"
      ],
      "metadata": {
        "id": "m9cR_Td4crlO"
      },
      "execution_count": null,
      "outputs": []
    },
    {
      "cell_type": "markdown",
      "source": [
        "If you do not specify the index, the pop() method removes the last item."
      ],
      "metadata": {
        "id": "c90bHs9Ic2zJ"
      }
    },
    {
      "cell_type": "code",
      "source": [
        "* Remove the last item:\n",
        "\n",
        "thislist = [\"square\", \"circle\", \"triangle\"]\n",
        "thislist.pop()\n",
        "print(thislist)"
      ],
      "metadata": {
        "id": "1hvZYUDBdMZW"
      },
      "execution_count": null,
      "outputs": []
    },
    {
      "cell_type": "markdown",
      "source": [
        "The del keyword also removes the specified index:"
      ],
      "metadata": {
        "id": "5DjqwgQtgNZk"
      }
    },
    {
      "cell_type": "code",
      "source": [
        "* Remove the first item:\n",
        "\n",
        "\n",
        "thislist = [\"square\", \"circle\", \"triangle]\n",
        "del thislist[0]\n",
        "print(thislist)"
      ],
      "metadata": {
        "id": "JhTt1CDjhjG9"
      },
      "execution_count": null,
      "outputs": []
    },
    {
      "cell_type": "markdown",
      "source": [
        "The del keyword can also delete the list completely.\n"
      ],
      "metadata": {
        "id": "EiQb7qs7hp-B"
      }
    },
    {
      "cell_type": "code",
      "source": [
        "* Delete the entire list:\n",
        "\n",
        "\n",
        "thislist = [\"square\", \"circle\", \"triangle]\n",
        "del thislist"
      ],
      "metadata": {
        "id": "uZr1uzkBht_T"
      },
      "execution_count": null,
      "outputs": []
    },
    {
      "cell_type": "markdown",
      "source": [
        "-Clear the List\n",
        "\n",
        "*   The clear() method empties the list.\n",
        "*   The list still remains, but it has no content."
      ],
      "metadata": {
        "id": "HykHhOV8iGTu"
      }
    },
    {
      "cell_type": "code",
      "source": [
        "* Clear the list content:\n",
        "\n",
        "\n",
        "thislist = [\"square\", \"circle\", \"triangle\"]\n",
        "thislist.clear()\n",
        "print(thislist)"
      ],
      "metadata": {
        "id": "Tidhk8BspagI"
      },
      "execution_count": null,
      "outputs": []
    },
    {
      "cell_type": "markdown",
      "source": [
        "Python - Sort Lists[link text](https://www.w3schools.com/python/python_lists_sort.asp)"
      ],
      "metadata": {
        "id": "m_oL4w_xpbmN"
      }
    },
    {
      "cell_type": "markdown",
      "source": [
        "\n",
        "\n",
        "*   Advanced Operations in Python Lists\n",
        "\n",
        "*   Sort List Alphanumerically\n",
        "\n",
        "\n",
        "List objects have a sort() method that will sort the list alphanumerically, ascending, by default:\n",
        "\n"
      ],
      "metadata": {
        "id": "4wtIvFdhp3D1"
      }
    },
    {
      "cell_type": "code",
      "source": [
        "* Sort the list alphabetically:\n",
        "\n",
        "\n",
        "thislist = [\"square\", \"circle\", \"triangle, \"star\", \"diamond\"]\n",
        "thislist.sort()\n",
        "print(thislist)\n",
        "* Sort the list numerically:\n",
        "\n",
        "\n",
        "thislist = [109, 59, 69, 89, 29]\n",
        "thislist.sort()\n",
        "print(thislist)\n",
        "Sort Descending\n",
        "To sort descending, use the keyword argument reverse = True:\n",
        "* Sort the list descending:\n",
        "\n",
        "\n",
        "thislist = [\"square\", \"circle\", \"triangle, \"star\", \"diamond\"]\n",
        "thislist.sort(reverse = True)\n",
        "print(thislist)\n",
        "* Sort the list descending:\n",
        "\n",
        "\n",
        "thislist = [109, 59, 69, 89, 29]\n",
        "thislist.sort(reverse = True)\n",
        "print(thislist)"
      ],
      "metadata": {
        "id": "BeF5ux2mqFGN"
      },
      "execution_count": null,
      "outputs": []
    },
    {
      "cell_type": "markdown",
      "source": [
        "\n",
        "\n",
        "*   Customize Sort Function\n",
        "\n",
        "\n",
        "*   You can also customize your own function by using the keyword argument key = function.\n",
        "\n",
        "*   The function will return a number that will be used to sort the list (the lowest number first):\n",
        "\n"
      ],
      "metadata": {
        "id": "CUJHwNlpqdbk"
      }
    },
    {
      "cell_type": "code",
      "source": [
        "* Sort the list based on how close the number is to 50:\n",
        "\n",
        "\n",
        "def myfunc(n):\n",
        "  return abs(n - 50)\n",
        "\n",
        "thislist = [109, 59, 69, 89, 29]\n",
        "\n",
        "thislist.sort(key = myfunc)\n",
        "\n",
        "print(thislist)"
      ],
      "metadata": {
        "id": "hTXD4cUgq0dr"
      },
      "execution_count": null,
      "outputs": []
    },
    {
      "cell_type": "markdown",
      "source": [
        "\n",
        "\n",
        "*   Case Insensitive Sort\n",
        "\n",
        "*   By default the sort() method is case sensitive, resulting in all capital letters being sorted before lower case letters:\n",
        "\n",
        "\n"
      ],
      "metadata": {
        "id": "CI1ecPF1q1ng"
      }
    },
    {
      "cell_type": "code",
      "source": [
        "thislist = [\"square\", \"circle\", \"triangle, \"star\"]\n",
        "thislist.sort()\n",
        "print(thislist)"
      ],
      "metadata": {
        "id": "OPxdlojZrAgs"
      },
      "execution_count": null,
      "outputs": []
    },
    {
      "cell_type": "markdown",
      "source": [
        "\n",
        "\n",
        "*   Luckily we can use built-in functions as key functions when sorting a list.\n",
        "\n",
        "*   So if you want a case-insensitive sort function, use str.lower as a key function:"
      ],
      "metadata": {
        "id": "jVoU97-WrEy6"
      }
    },
    {
      "cell_type": "code",
      "source": [
        "* Perform a case-insensitive sort of the list:\n",
        "\n",
        "\n",
        "thislist = [\"square\", \"circle\", \"triangle, \"star\"]\n",
        "thislist.sort(key = str.lower)\n",
        "print(thislist)"
      ],
      "metadata": {
        "id": "Euc-UYcarUm5"
      },
      "execution_count": null,
      "outputs": []
    },
    {
      "cell_type": "markdown",
      "source": [
        "\n",
        "\n",
        "*   Reverse Order\n",
        "\n",
        "*   What if you want to reverse the order of a list, regardless of the alphabet?\n",
        "\n",
        "The reverse() method reverses the current sorting order of the elements.\n"
      ],
      "metadata": {
        "id": "UCp-ZucVrWXt"
      }
    },
    {
      "cell_type": "code",
      "source": [
        "* Reverse the order of the list items:\n",
        "\n",
        "\n",
        "thislist = [square\", \"circle\", \"triangle, \"star\"]\n",
        "thislist.reverse()\n",
        "print(thislist)"
      ],
      "metadata": {
        "id": "j9BEskrfrkIX"
      },
      "execution_count": null,
      "outputs": []
    },
    {
      "cell_type": "markdown",
      "source": [
        "\n",
        "\n",
        "*   Python - Copy Lists\n",
        "\n",
        "*   Copy a List\n",
        "\n",
        "You cannot copy a list simply by typing list2 = list1, because: list2 will only be a reference to list1, and changes made in list1 will automatically also be made in list2.\n",
        "\n",
        "There are ways to make a copy, one way is to use the built-in List method copy().\n",
        "\n"
      ],
      "metadata": {
        "id": "mzLHR0jRrovZ"
      }
    },
    {
      "cell_type": "code",
      "source": [
        "* Make a copy of a list with the copy() method:\n",
        "\n",
        "\n",
        "thislist = [\"square\", \"circle\", \"triangle\"]\n",
        "mylist = thislist.copy()\n",
        "print(mylist)"
      ],
      "metadata": {
        "id": "NqlqE1eLrzKV"
      },
      "execution_count": null,
      "outputs": []
    },
    {
      "cell_type": "markdown",
      "source": [
        "Another way to make a copy is to use the built-in method list().\n"
      ],
      "metadata": {
        "id": "wWD6_h0Ur25Y"
      }
    },
    {
      "cell_type": "code",
      "source": [
        "* Make a copy of a list with the list() method:\n",
        "\n",
        "\n",
        "thislist = [\"square\", \"circle\", \"triangle\"]\n",
        "mylist = list(thislist)\n",
        "print(mylist)"
      ],
      "metadata": {
        "id": "Vo3lq3csr5-A"
      },
      "execution_count": null,
      "outputs": []
    },
    {
      "cell_type": "markdown",
      "source": [
        "Another way to make a copy is to use the built-in method list().\n"
      ],
      "metadata": {
        "id": "Et4TWYqwr9OE"
      }
    },
    {
      "cell_type": "markdown",
      "source": [
        "Python - Join Lists\n",
        "[link text](https://www.w3schools.com/python/python_lists_join.asp)"
      ],
      "metadata": {
        "id": "juGfhKnisCpA"
      }
    },
    {
      "cell_type": "markdown",
      "source": [
        "\n",
        "\n",
        "*   Join Two Lists\n",
        "\n",
        "*   There are several ways to join, or concatenate, two or more lists in Python.\n",
        "One of the easiest ways are by using the + operator.\n"
      ],
      "metadata": {
        "id": "RyPlz6bKsZoR"
      }
    },
    {
      "cell_type": "code",
      "source": [
        "* Join two list:\n",
        "\n",
        "\n",
        "list1 = [\"q\", \"w\", \"e\"]\n",
        "list2 = [3, 6, 9]\n",
        "\n",
        "list3 = list1 + list2\n",
        "print(list3)"
      ],
      "metadata": {
        "id": "-Ezrg5xNsg4m"
      },
      "execution_count": null,
      "outputs": []
    },
    {
      "cell_type": "markdown",
      "source": [
        "Another way to join two lists is by appending all the items from list2 into list1, one by one:\n"
      ],
      "metadata": {
        "id": "oj6LJy4XslQC"
      }
    },
    {
      "cell_type": "code",
      "source": [
        "* Append list2 into list1:\n",
        "\n",
        "\n",
        "list1 = [\"q\", \"w\", \"e\"]\n",
        "list2 = [3, 6, 9]\n",
        "\n",
        "for x in list2:\n",
        "  list1.append(x)\n",
        "\n",
        "print(list1)"
      ],
      "metadata": {
        "id": "1e7m-bDAsohM"
      },
      "execution_count": null,
      "outputs": []
    },
    {
      "cell_type": "markdown",
      "source": [
        "Or you can use the extend() method, which purpose is to add elements from one list to another list:\n"
      ],
      "metadata": {
        "id": "vLOC84uvsrZU"
      }
    },
    {
      "cell_type": "code",
      "source": [
        "* Use the extend() method to add list2 at the end of list1:\n",
        "\n",
        "\n",
        "list1 = [\"q\", \"w\", \"e\"]\n",
        "list2 = [1, 2, 3]\n",
        "\n",
        "list1.extend(list2)\n",
        "print(list1)"
      ],
      "metadata": {
        "id": "kJiFBfXzsthe"
      },
      "execution_count": null,
      "outputs": []
    },
    {
      "cell_type": "markdown",
      "source": [
        "Python - List Methods\n"
      ],
      "metadata": {
        "id": "jN37kuBlsxOq"
      }
    },
    {
      "cell_type": "markdown",
      "source": [
        "\n",
        "\n",
        "*   List Methods\n",
        "\n",
        "*   Python List reverse() Method\n",
        "\n",
        "\n"
      ],
      "metadata": {
        "id": "AofDBzdItTDf"
      }
    },
    {
      "cell_type": "code",
      "source": [
        "* Reverse the order of the colors list:\n",
        "\n",
        "\n",
        "shapess = [\"square\", \"circle\", \"triangle\"]\n",
        "\n",
        "shapess.reverse()\n",
        "\n",
        "print(shapes"
      ],
      "metadata": {
        "id": "naC5dkPxtbuL"
      },
      "execution_count": null,
      "outputs": []
    },
    {
      "cell_type": "markdown",
      "source": [
        "\n",
        "*   Definition and Usage\n",
        " The reverse() method reverses the sorting order of the elements.\n",
        "*   Syntax\n",
        "- list.reverse()\n",
        "\n",
        "*   Parameter Values\n",
        "- No parameters\n",
        "\n",
        "*   Related Pages\n",
        "- The buil-in function reversed() returns a reversed iterator object.\n",
        "\n",
        "\n",
        "\n",
        "*   Official The Python Tutorial » 5. Data Structures\n",
        "*   list.count(x)Method:Return the number of times x appears in the list.\n",
        "\n",
        "\n",
        "\n",
        "\n",
        "\n"
      ],
      "metadata": {
        "id": "j3w3nBmOtgLD"
      }
    }
  ]
}