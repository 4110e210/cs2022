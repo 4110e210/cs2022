{
  "nbformat": 4,
  "nbformat_minor": 0,
  "metadata": {
    "colab": {
      "provenance": [],
      "collapsed_sections": []
    },
    "kernelspec": {
      "name": "python3",
      "display_name": "Python 3"
    },
    "language_info": {
      "name": "python"
    }
  },
  "cells": [
    {
      "cell_type": "markdown",
      "source": [
        "1019 4110E210\n",
        "Python Conditions and If Statements\n",
        "\n"
      ],
      "metadata": {
        "id": "hkBKmpnfwss4"
      }
    },
    {
      "cell_type": "markdown",
      "source": [
        "\n",
        "Exercise 1: Print \"Never Giveup\" if a is greater than b.\n"
      ],
      "metadata": {
        "id": "mHN-q2AYxImy"
      }
    },
    {
      "cell_type": "code",
      "execution_count": 1,
      "metadata": {
        "colab": {
          "base_uri": "https://localhost:8080/"
        },
        "id": "5VGn6f8EwlJj",
        "outputId": "ab22d790-0a00-4017-bf1a-c0f2c30bd50d"
      },
      "outputs": [
        {
          "output_type": "stream",
          "name": "stdout",
          "text": [
            "Never Giveup\n"
          ]
        }
      ],
      "source": [
        "a = 19\n",
        "b = 7\n",
        "\n",
        "if a > b:\n",
        "   print(\"Never Giveup\")"
      ]
    },
    {
      "cell_type": "markdown",
      "source": [
        "Exercise 2 : Print \"Never Giveup\" if a is not equal to b."
      ],
      "metadata": {
        "id": "FdqlSf4B1jQ8"
      }
    },
    {
      "cell_type": "code",
      "source": [
        "a = 72\n",
        "b = 23\n",
        "\n",
        "if a != b :\n",
        "  print(\"Never Giveup\")"
      ],
      "metadata": {
        "colab": {
          "base_uri": "https://localhost:8080/"
        },
        "id": "9OCBPe3L1h8F",
        "outputId": "52bac216-a7ff-4244-8444-e0efcb7b5701"
      },
      "execution_count": 3,
      "outputs": [
        {
          "output_type": "stream",
          "name": "stdout",
          "text": [
            "Never Giveup\n"
          ]
        }
      ]
    },
    {
      "cell_type": "markdown",
      "source": [
        "Exercise 3 : Print \"Yes\" if a is equal to b, otherwise print \"No\"."
      ],
      "metadata": {
        "id": "stavvHxa3O-P"
      }
    },
    {
      "cell_type": "code",
      "source": [
        "a = 92\n",
        "b = 68\n",
        "\n",
        "if a == b :\n",
        "  print(\"Yes\")\n",
        "else:\n",
        "  print(\"No\")"
      ],
      "metadata": {
        "colab": {
          "base_uri": "https://localhost:8080/"
        },
        "id": "B9jn65Jv3HWf",
        "outputId": "65197cce-4501-43bf-ca85-24be071527fe"
      },
      "execution_count": 4,
      "outputs": [
        {
          "output_type": "stream",
          "name": "stdout",
          "text": [
            "No\n"
          ]
        }
      ]
    },
    {
      "cell_type": "markdown",
      "source": [
        "Exercise 4 : Print \"3\" if a is equal to b, print \"4\" if a is greater than b, otherwise print \"6\"."
      ],
      "metadata": {
        "id": "fDwavk1L3nfC"
      }
    },
    {
      "cell_type": "code",
      "source": [
        "a = 54\n",
        "b = 27\n",
        "\n",
        "if a == b :\n",
        " print(\"3\")\n",
        "elif a > b :\n",
        " print(\"4\")\n",
        "else:\n",
        " print(\"6\")"
      ],
      "metadata": {
        "colab": {
          "base_uri": "https://localhost:8080/"
        },
        "id": "4T6vI2Zd3mug",
        "outputId": "27e0d0c0-a0a8-4689-d0d5-6c7589254730"
      },
      "execution_count": 5,
      "outputs": [
        {
          "output_type": "stream",
          "name": "stdout",
          "text": [
            "4\n"
          ]
        }
      ]
    },
    {
      "cell_type": "markdown",
      "source": [
        "Exercise 5 : Print \"Never Giveup\" if a is equal to b, and c is equal to d."
      ],
      "metadata": {
        "id": "YcRs1rlZ4C2m"
      }
    },
    {
      "cell_type": "code",
      "source": [
        "if a == b and c == d:\n",
        "\n",
        "  print(\"Never Giveup\")"
      ],
      "metadata": {
        "id": "clw4llJp4CDS"
      },
      "execution_count": 16,
      "outputs": []
    },
    {
      "cell_type": "markdown",
      "source": [
        "Exercise 6 : Print \"Never Giveup\" if a is equal to b, or if c is equal to d."
      ],
      "metadata": {
        "id": "yO4Se8eQ4zLJ"
      }
    },
    {
      "cell_type": "code",
      "source": [
        "if a == b or c == d:\n",
        "  print(\"Never Giveup\")"
      ],
      "metadata": {
        "id": "8O9oBbkM6Pl5"
      },
      "execution_count": null,
      "outputs": []
    },
    {
      "cell_type": "markdown",
      "source": [
        "Exercise 7 : This example misses indentations to be correct.\n",
        "\n",
        "Insert the missing indentation to make the code correct:"
      ],
      "metadata": {
        "id": "xJhDIzLu5S34"
      }
    },
    {
      "cell_type": "code",
      "source": [
        "if 11 > 8 :\n",
        "  print(\"Eleven is greater than eigth!\")"
      ],
      "metadata": {
        "colab": {
          "base_uri": "https://localhost:8080/"
        },
        "id": "ZR6odIO55I-s",
        "outputId": "31b0800e-f417-49d6-9b61-2661914047e4"
      },
      "execution_count": 13,
      "outputs": [
        {
          "output_type": "stream",
          "name": "stdout",
          "text": [
            "Eleven is greater than eigth!\n"
          ]
        }
      ]
    },
    {
      "cell_type": "markdown",
      "source": [
        "Exercise 8 : Use the correct short hand syntax to put the following statement on one line:"
      ],
      "metadata": {
        "id": "G1xMUsSA5laU"
      }
    },
    {
      "cell_type": "code",
      "source": [
        "if 7 > 1: print(\"Seven is greater than One!\")"
      ],
      "metadata": {
        "colab": {
          "base_uri": "https://localhost:8080/"
        },
        "id": "OY1DTjbl5gP1",
        "outputId": "9fab947e-ad33-4423-c434-afe033331980"
      },
      "execution_count": 14,
      "outputs": [
        {
          "output_type": "stream",
          "name": "stdout",
          "text": [
            "Seven is greater than One!\n"
          ]
        }
      ]
    },
    {
      "cell_type": "markdown",
      "source": [
        "Exercise 9 : Use the correct short hand syntax to write the following conditional expression in one line:"
      ],
      "metadata": {
        "id": "U9ZRzNzY52or"
      }
    },
    {
      "cell_type": "code",
      "source": [
        "if 19 > 17:\n",
        "  print(\"Yes\")\n",
        "else:    \n",
        "  print(\"No\")"
      ],
      "metadata": {
        "colab": {
          "base_uri": "https://localhost:8080/"
        },
        "id": "m_Q4wlEu5yAN",
        "outputId": "ce1a5319-47bc-4cdc-86c9-09ed0f37a3f3"
      },
      "execution_count": 15,
      "outputs": [
        {
          "output_type": "stream",
          "name": "stdout",
          "text": [
            "Yes\n"
          ]
        }
      ]
    }
  ]
}